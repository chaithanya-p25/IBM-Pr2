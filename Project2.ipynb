{
 "cells": [
  {
   "cell_type": "markdown",
   "id": "56e3898b-14bd-405c-bbc9-e16f68767029",
   "metadata": {},
   "source": [
    "# My Jupiter Notebook on IBM Watson Studio"
   ]
  },
  {
   "cell_type": "markdown",
   "id": "5ec71ad1-97c1-432a-8704-c5e7e370f5ee",
   "metadata": {},
   "source": [
    "**Chaithanya P**  \n",
    "\n",
    "I am intrested in Data Sciene."
   ]
  },
  {
   "cell_type": "markdown",
   "id": "073588ee-8cae-4751-91f6-0e6d44eeac37",
   "metadata": {},
   "source": [
    " *I am intrested in Data Science because it can help to solve the real world problem.*"
   ]
  },
  {
   "cell_type": "markdown",
   "id": "2ddd8108-1947-4446-9293-32113d09ac72",
   "metadata": {},
   "source": [
    "### Combination of addition and multiplication"
   ]
  },
  {
   "cell_type": "code",
   "execution_count": 1,
   "id": "41387dc0-2860-4ba5-bb4c-0d987d17965a",
   "metadata": {},
   "outputs": [
    {
     "data": {
      "text/plain": [
       "190"
      ]
     },
     "execution_count": 1,
     "metadata": {},
     "output_type": "execute_result"
    }
   ],
   "source": [
    "5*(2+5*6)+30"
   ]
  },
  {
   "cell_type": "markdown",
   "id": "f3b177d2-58e2-4d72-ab2e-8cbcfb701a8f",
   "metadata": {},
   "source": [
    "  *Horizontal rule*  \n",
    "  \n",
    "---\n",
    "My Name is Chaithanya\n",
    "---"
   ]
  },
  {
   "cell_type": "markdown",
   "id": "5403efda-932e-4901-ac82-430f43d403e7",
   "metadata": {},
   "source": [
    "*Blocked Quotes*  \n",
    "What is your Name?  \n",
    ">My Name is Chaithanya."
   ]
  },
  {
   "cell_type": "markdown",
   "id": "56e88389-52a3-4265-8ee3-15fa3a8f97d5",
   "metadata": {},
   "source": [
    "*Bulleted list*  \n",
    "\n",
    "Programming languages  \n",
    "+ Python  \n",
    "+ Java  \n",
    "+ C  \n",
    "+ C++"
   ]
  },
  {
   "cell_type": "code",
   "execution_count": null,
   "id": "b26d3f22-bd3a-4df5-9b89-ffa19d6257ab",
   "metadata": {},
   "outputs": [],
   "source": []
  }
 ],
 "metadata": {
  "kernelspec": {
   "display_name": "Python",
   "language": "python",
   "name": "conda-env-python-py"
  },
  "language_info": {
   "codemirror_mode": {
    "name": "ipython",
    "version": 3
   },
   "file_extension": ".py",
   "mimetype": "text/x-python",
   "name": "python",
   "nbconvert_exporter": "python",
   "pygments_lexer": "ipython3",
   "version": "3.7.12"
  }
 },
 "nbformat": 4,
 "nbformat_minor": 5
}
